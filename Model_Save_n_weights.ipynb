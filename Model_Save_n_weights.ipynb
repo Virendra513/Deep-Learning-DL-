{
  "nbformat": 4,
  "nbformat_minor": 0,
  "metadata": {
    "colab": {
      "provenance": [],
      "mount_file_id": "1boh82CPchZq7BT4eyjQDoBF_mNEVX-Uo",
      "authorship_tag": "ABX9TyMeA78C5cWBIu524O9xPM8Y"
    },
    "kernelspec": {
      "name": "python3",
      "display_name": "Python 3"
    },
    "language_info": {
      "name": "python"
    }
  },
  "cells": [
    {
      "cell_type": "markdown",
      "source": [
        "# **model.save()** (Save Entire Model):\n",
        "This method saves the entire model, including the architecture, optimizer, and weights. It creates a file in the Hierarchical Data Format (HDF5) with a .h5 extension. This allows you to save and load the entire model, making it convenient for sharing, deployment, or further training."
      ],
      "metadata": {
        "id": "MyHbKdW4qtbW"
      }
    },
    {
      "cell_type": "code",
      "source": [
        "import tensorflow as tf\n",
        "from tensorflow.keras.models import Sequential\n",
        "from tensorflow.keras.layers import Dense"
      ],
      "metadata": {
        "id": "gh-U93J7rM58"
      },
      "execution_count": 3,
      "outputs": []
    },
    {
      "cell_type": "code",
      "source": [
        "# Generate sample data\n",
        "import numpy as np\n",
        "num_samples=1000\n",
        "input_dim=5\n",
        "x_train=np.random.random((num_samples, input_dim))\n",
        "y_train=np.random.randint(2,size=(num_samples,1))\n"
      ],
      "metadata": {
        "id": "f4Uiat8kscmJ"
      },
      "execution_count": 4,
      "outputs": []
    },
    {
      "cell_type": "code",
      "source": [
        "# Check datatype of data\n",
        "type(x_train),type(y_train)"
      ],
      "metadata": {
        "colab": {
          "base_uri": "https://localhost:8080/"
        },
        "id": "oHUrGTLjuiJn",
        "outputId": "948136bb-99e5-4795-d162-f62457c3ab5b"
      },
      "execution_count": 6,
      "outputs": [
        {
          "output_type": "execute_result",
          "data": {
            "text/plain": [
              "(numpy.ndarray, numpy.ndarray)"
            ]
          },
          "metadata": {},
          "execution_count": 6
        }
      ]
    },
    {
      "cell_type": "code",
      "source": [
        "x_train"
      ],
      "metadata": {
        "colab": {
          "base_uri": "https://localhost:8080/"
        },
        "id": "iilIF_6Fu7X1",
        "outputId": "eb30d3a3-fc20-4568-eba1-502813560017"
      },
      "execution_count": 7,
      "outputs": [
        {
          "output_type": "execute_result",
          "data": {
            "text/plain": [
              "array([[0.0330478 , 0.15367565, 0.24446459, 0.53668631, 0.6686473 ],\n",
              "       [0.39349904, 0.60382803, 0.92970862, 0.54873857, 0.32515505],\n",
              "       [0.30602779, 0.37033228, 0.93915603, 0.79988481, 0.8082729 ],\n",
              "       ...,\n",
              "       [0.31013357, 0.12116084, 0.8486627 , 0.10925552, 0.91377469],\n",
              "       [0.92740548, 0.96572847, 0.92784116, 0.9097868 , 0.30436225],\n",
              "       [0.42432713, 0.7677593 , 0.5983476 , 0.6751047 , 0.11901438]])"
            ]
          },
          "metadata": {},
          "execution_count": 7
        }
      ]
    },
    {
      "cell_type": "code",
      "source": [
        "y_train[:10]"
      ],
      "metadata": {
        "colab": {
          "base_uri": "https://localhost:8080/"
        },
        "id": "aAlWxdhPu-z3",
        "outputId": "5480ddbb-29e7-4665-cfa2-301a57edf902"
      },
      "execution_count": 8,
      "outputs": [
        {
          "output_type": "execute_result",
          "data": {
            "text/plain": [
              "array([[0],\n",
              "       [1],\n",
              "       [1],\n",
              "       [1],\n",
              "       [0],\n",
              "       [1],\n",
              "       [1],\n",
              "       [0],\n",
              "       [1],\n",
              "       [0]])"
            ]
          },
          "metadata": {},
          "execution_count": 8
        }
      ]
    },
    {
      "cell_type": "code",
      "source": [
        "# Check shape of data\n",
        "x_train.shape, y_train.shape"
      ],
      "metadata": {
        "colab": {
          "base_uri": "https://localhost:8080/"
        },
        "id": "jR3hBMqmuS4L",
        "outputId": "d415506f-d689-4dc1-efc5-9e85efeed0de"
      },
      "execution_count": 9,
      "outputs": [
        {
          "output_type": "execute_result",
          "data": {
            "text/plain": [
              "((1000, 5), (1000, 1))"
            ]
          },
          "metadata": {},
          "execution_count": 9
        }
      ]
    },
    {
      "cell_type": "code",
      "source": [
        "# Create a simple ANN\n",
        "model=Sequential()\n",
        "model.add(Dense(10,input_dim=5, activation='relu'))\n",
        "model.add(Dense(1,activation='sigmoid'))\n",
        "model.summary()"
      ],
      "metadata": {
        "colab": {
          "base_uri": "https://localhost:8080/"
        },
        "id": "7j3XOSjNr-_A",
        "outputId": "3ee47c40-a6f9-4d8d-9985-90e5811dd94f"
      },
      "execution_count": 10,
      "outputs": [
        {
          "output_type": "stream",
          "name": "stdout",
          "text": [
            "Model: \"sequential\"\n",
            "_________________________________________________________________\n",
            " Layer (type)                Output Shape              Param #   \n",
            "=================================================================\n",
            " dense (Dense)               (None, 10)                60        \n",
            "                                                                 \n",
            " dense_1 (Dense)             (None, 1)                 11        \n",
            "                                                                 \n",
            "=================================================================\n",
            "Total params: 71 (284.00 Byte)\n",
            "Trainable params: 71 (284.00 Byte)\n",
            "Non-trainable params: 0 (0.00 Byte)\n",
            "_________________________________________________________________\n"
          ]
        }
      ]
    },
    {
      "cell_type": "code",
      "source": [
        "# Visualize the Model\n",
        "from tensorflow.keras.utils import plot_model\n",
        "plot_model(model)"
      ],
      "metadata": {
        "colab": {
          "base_uri": "https://localhost:8080/",
          "height": 272
        },
        "id": "1R6KE1x-wLcW",
        "outputId": "9f32e11c-730f-45e5-b6ff-ec77360c0e8a"
      },
      "execution_count": 11,
      "outputs": [
        {
          "output_type": "execute_result",
          "data": {
            "image/png": "[encoded data removed]",
            "text/plain": [
              "<IPython.core.display.Image object>"
            ]
          },
          "metadata": {},
          "execution_count": 11
        }
      ]
    },
    {
      "cell_type": "code",
      "source": [
        "model.compile(optimizer='adam', loss='binary_crossentropy', metrics=['accuracy'])"
      ],
      "metadata": {
        "id": "qvS7GRoftny7"
      },
      "execution_count": 12,
      "outputs": []
    },
    {
      "cell_type": "code",
      "source": [
        "# Generate validation data\n",
        "x_val=np.random.random((50,5))\n",
        "y_val=np.random.randint(2,size=(50,1))"
      ],
      "metadata": {
        "id": "4rssZcy_vohT"
      },
      "execution_count": 13,
      "outputs": []
    },
    {
      "cell_type": "code",
      "source": [
        "hist=model.fit(x_train, y_train, epochs=10, batch_size=32, validation_data=(x_val, y_val))"
      ],
      "metadata": {
        "colab": {
          "base_uri": "https://localhost:8080/"
        },
        "id": "50a-lIXfuMTp",
        "outputId": "13790811-f3be-4744-c482-4cf6a4c86037"
      },
      "execution_count": 14,
      "outputs": [
        {
          "output_type": "stream",
          "name": "stdout",
          "text": [
            "Epoch 1/10\n",
            "32/32 [==============================] - 1s 9ms/step - loss: 0.6981 - accuracy: 0.5220 - val_loss: 0.6936 - val_accuracy: 0.5000\n",
            "Epoch 2/10\n",
            "32/32 [==============================] - 0s 4ms/step - loss: 0.6954 - accuracy: 0.5280 - val_loss: 0.6927 - val_accuracy: 0.5000\n",
            "Epoch 3/10\n",
            "32/32 [==============================] - 0s 4ms/step - loss: 0.6939 - accuracy: 0.5270 - val_loss: 0.6925 - val_accuracy: 0.5000\n",
            "Epoch 4/10\n",
            "32/32 [==============================] - 0s 3ms/step - loss: 0.6930 - accuracy: 0.5270 - val_loss: 0.6924 - val_accuracy: 0.5200\n",
            "Epoch 5/10\n",
            "32/32 [==============================] - 0s 3ms/step - loss: 0.6922 - accuracy: 0.5320 - val_loss: 0.6937 - val_accuracy: 0.5200\n",
            "Epoch 6/10\n",
            "32/32 [==============================] - 0s 3ms/step - loss: 0.6913 - accuracy: 0.5410 - val_loss: 0.6953 - val_accuracy: 0.5200\n",
            "Epoch 7/10\n",
            "32/32 [==============================] - 0s 3ms/step - loss: 0.6909 - accuracy: 0.5400 - val_loss: 0.6959 - val_accuracy: 0.5200\n",
            "Epoch 8/10\n",
            "32/32 [==============================] - 0s 3ms/step - loss: 0.6904 - accuracy: 0.5380 - val_loss: 0.6962 - val_accuracy: 0.4800\n",
            "Epoch 9/10\n",
            "32/32 [==============================] - 0s 3ms/step - loss: 0.6899 - accuracy: 0.5350 - val_loss: 0.6969 - val_accuracy: 0.5000\n",
            "Epoch 10/10\n",
            "32/32 [==============================] - 0s 3ms/step - loss: 0.6897 - accuracy: 0.5370 - val_loss: 0.6967 - val_accuracy: 0.4600\n"
          ]
        }
      ]
    },
    {
      "cell_type": "code",
      "source": [
        "# Plot Accuracy and Error for Tranning and  validation data\n",
        "import matplotlib.pyplot as plt\n",
        "\n",
        "plt.figure(figsize=(12,4))\n",
        "plt.subplot(1,2,1)\n",
        "plt.plot(hist.history['accuracy'],label='Tranning Accuracy')\n",
        "plt.plot(hist.history['val_accuracy'],label='Tranning Accuracy')\n",
        "plt.xlabel('Epoch')\n",
        "plt.ylabel('Accuracy')\n",
        "plt.legend()\n",
        "\n",
        "plt.subplot(1,2,2)\n",
        "plt.plot(hist.history['loss'],label='Tranning Loss')\n",
        "plt.plot(hist.history['val_loss'],label='Tranning Loss')\n",
        "plt.xlabel('Epoch')\n",
        "plt.ylabel('Accuracy')\n",
        "plt.legend()\n",
        "\n",
        "plt.show()"
      ],
      "metadata": {
        "colab": {
          "base_uri": "https://localhost:8080/",
          "height": 388
        },
        "id": "xpxwzuq8yZBs",
        "outputId": "ce0eabb3-1d89-4d82-e9d5-d5819e8454e2"
      },
      "execution_count": 15,
      "outputs": [
        {
          "output_type": "display_data",
          "data": {
            "text/plain": [
              "<Figure size 1200x400 with 2 Axes>"
            ],
            "image/png": "[encoded data removed]"
          },
          "metadata": {}
        }
      ]
    },
    {
      "cell_type": "code",
      "source": [
        "# Test on random data\n",
        "x_test=np.random.random((50,5))\n",
        "model.predict(x_test)"
      ],
      "metadata": {
        "colab": {
          "base_uri": "https://localhost:8080/"
        },
        "id": "rYHhdQUsvgnd",
        "outputId": "56d3e7a6-c315-4453-c5f4-c2c08ce2e6fd"
      },
      "execution_count": 16,
      "outputs": [
        {
          "output_type": "stream",
          "name": "stdout",
          "text": [
            "2/2 [==============================] - 0s 6ms/step\n"
          ]
        },
        {
          "output_type": "execute_result",
          "data": {
            "text/plain": [
              "array([[0.48932746],\n",
              "       [0.4697573 ],\n",
              "       [0.46784464],\n",
              "       [0.47287762],\n",
              "       [0.5006721 ],\n",
              "       [0.4887241 ],\n",
              "       [0.5071489 ],\n",
              "       [0.50780755],\n",
              "       [0.48921484],\n",
              "       [0.5169466 ],\n",
              "       [0.4740809 ],\n",
              "       [0.4939333 ],\n",
              "       [0.4649579 ],\n",
              "       [0.5181212 ],\n",
              "       [0.51413095],\n",
              "       [0.474471  ],\n",
              "       [0.50965667],\n",
              "       [0.46717545],\n",
              "       [0.5020729 ],\n",
              "       [0.4589473 ],\n",
              "       [0.48522016],\n",
              "       [0.5051149 ],\n",
              "       [0.48079744],\n",
              "       [0.48257133],\n",
              "       [0.47057644],\n",
              "       [0.49381968],\n",
              "       [0.49037006],\n",
              "       [0.46677795],\n",
              "       [0.47858542],\n",
              "       [0.50740933],\n",
              "       [0.47641778],\n",
              "       [0.4643866 ],\n",
              "       [0.48136303],\n",
              "       [0.48952207],\n",
              "       [0.48914573],\n",
              "       [0.48617113],\n",
              "       [0.49916083],\n",
              "       [0.46642226],\n",
              "       [0.45602342],\n",
              "       [0.45862526],\n",
              "       [0.51685524],\n",
              "       [0.48920438],\n",
              "       [0.4856219 ],\n",
              "       [0.4684783 ],\n",
              "       [0.4942947 ],\n",
              "       [0.45747432],\n",
              "       [0.4781044 ],\n",
              "       [0.46533182],\n",
              "       [0.4868431 ],\n",
              "       [0.50792456]], dtype=float32)"
            ]
          },
          "metadata": {},
          "execution_count": 16
        }
      ]
    },
    {
      "cell_type": "code",
      "source": [
        "# Save whole model that includes weights and architecture\n",
        "model.save('/content/drive/MyDrive/model_n_weights/example/model_ex1.h5')"
      ],
      "metadata": {
        "colab": {
          "base_uri": "https://localhost:8080/"
        },
        "id": "V1244G4o03ez",
        "outputId": "d4d9d347-6df6-4f15-99af-2013b923bb90"
      },
      "execution_count": 18,
      "outputs": [
        {
          "output_type": "stream",
          "name": "stderr",
          "text": [
            "/usr/local/lib/python3.10/dist-packages/keras/src/engine/training.py:3103: UserWarning: You are saving your model as an HDF5 file via `model.save()`. This file format is considered legacy. We recommend using instead the native Keras format, e.g. `model.save('my_model.keras')`.\n",
            "  saving_api.save_model(\n"
          ]
        }
      ]
    },
    {
      "cell_type": "code",
      "source": [
        "# load model\n",
        "loaded_model = tf.keras.models.load_model('/content/drive/MyDrive/model_n_weights/example/model_ex1.h5')"
      ],
      "metadata": {
        "id": "sJNXFMKq2Xke"
      },
      "execution_count": 19,
      "outputs": []
    },
    {
      "cell_type": "code",
      "source": [
        "# Predict on loaded model\n",
        "y_pred=loaded_model.predict(x_test)"
      ],
      "metadata": {
        "colab": {
          "base_uri": "https://localhost:8080/"
        },
        "id": "QwPtHpR52laR",
        "outputId": "d5b1bca3-d906-4b2e-8f5c-e6f809012828"
      },
      "execution_count": 29,
      "outputs": [
        {
          "output_type": "stream",
          "name": "stdout",
          "text": [
            "2/2 [==============================] - 0s 8ms/step\n"
          ]
        }
      ]
    },
    {
      "cell_type": "code",
      "source": [
        "# Print weights and bias for each layers\n",
        "for layer in model.layers:\n",
        "    print(f\"Layer: {layer.name}\")\n",
        "    weights, biases = layer.get_weights()\n",
        "    print(\"Weights:\")\n",
        "    print(weights)\n",
        "    print(\"Biases:\")\n",
        "    print(biases)\n",
        "    print(\"=\" * 30)"
      ],
      "metadata": {
        "colab": {
          "base_uri": "https://localhost:8080/"
        },
        "id": "VMBGB8AJ22TD",
        "outputId": "de4be3ab-9448-43f2-d782-6cbccd7370f9"
      },
      "execution_count": 30,
      "outputs": [
        {
          "output_type": "stream",
          "name": "stdout",
          "text": [
            "Layer: dense\n",
            "Weights:\n",
            "[[ 0.5840994   0.16825321 -0.06402262 -0.18700191 -0.6238853  -0.18879253\n",
            "  -0.4297858   0.12234668  0.54495215  0.10307391]\n",
            " [-0.14714137  0.21897136 -0.25228325 -0.62718844  0.21162744 -0.43468153\n",
            "  -0.5105411  -0.4959606   0.36430362  0.08162904]\n",
            " [-0.1304634   0.5899118   0.5050341  -0.31268436  0.09194766 -0.33505365\n",
            "   0.66083646  0.2782284  -0.441547   -0.21527626]\n",
            " [ 0.33794013 -0.14271668 -0.32676005 -0.04043788 -0.4525769   0.15725726\n",
            "  -0.2578143  -0.14928235  0.32963908 -0.3783419 ]\n",
            " [-0.17359887 -0.2589552   0.16784392 -0.36778995  0.30849612 -0.56717557\n",
            "  -0.12724112  0.11353503  0.00629526  0.5274218 ]]\n",
            "Biases:\n",
            "[-0.03214277 -0.02748662 -0.0657918   0.          0.0019766   0.\n",
            "  0.02970973  0.07847723  0.02085055  0.03963086]\n",
            "==============================\n",
            "Layer: dense_1\n",
            "Weights:\n",
            "[[-0.44855824]\n",
            " [ 0.028108  ]\n",
            " [-0.6180148 ]\n",
            " [ 0.5827711 ]\n",
            " [-0.3321477 ]\n",
            " [-0.55468345]\n",
            " [ 0.12907575]\n",
            " [ 0.6090657 ]\n",
            " [ 0.11090598]\n",
            " [-0.37887383]]\n",
            "Biases:\n",
            "[0.03145896]\n",
            "==============================\n"
          ]
        }
      ]
    },
    {
      "cell_type": "markdown",
      "source": [
        "## **model.save_weights()** (Save Only Weights):\n",
        "This method saves only the weights of the model, without the architecture or optimizer state. It also creates an HDF5 file but specifically for weights. This is useful when you want to save and load pre-trained weights into a model with the same architecture.\n",
        "\n",
        " Saving the entire model is convenient but may result in larger file sizes.\n",
        " Saving only weights is more lightweight and faster but requires having the model architecture available separately.\n",
        " Make sure the architecture of the model when loading weights matches the architecture when the weights were saved."
      ],
      "metadata": {
        "id": "WQXt4Yomq2z_"
      }
    },
    {
      "cell_type": "code",
      "source": [
        "# Save model weight only\n",
        "model.save_weights('/content/drive/MyDrive/model_n_weights/example/model_ex1_weights.h5')"
      ],
      "metadata": {
        "id": "qbY5KMEr3fyj"
      },
      "execution_count": 24,
      "outputs": []
    },
    {
      "cell_type": "code",
      "source": [
        "# we need model for those weights\n",
        "new_model=model"
      ],
      "metadata": {
        "id": "kzqaeBJD3Q_w"
      },
      "execution_count": 22,
      "outputs": []
    },
    {
      "cell_type": "code",
      "source": [
        "new_model.summary()"
      ],
      "metadata": {
        "colab": {
          "base_uri": "https://localhost:8080/"
        },
        "id": "R2FirhFG3Xok",
        "outputId": "2fbff910-3c3d-434e-d37e-a76a8746b932"
      },
      "execution_count": 23,
      "outputs": [
        {
          "output_type": "stream",
          "name": "stdout",
          "text": [
            "Model: \"sequential\"\n",
            "_________________________________________________________________\n",
            " Layer (type)                Output Shape              Param #   \n",
            "=================================================================\n",
            " dense (Dense)               (None, 10)                60        \n",
            "                                                                 \n",
            " dense_1 (Dense)             (None, 1)                 11        \n",
            "                                                                 \n",
            "=================================================================\n",
            "Total params: 71 (284.00 Byte)\n",
            "Trainable params: 71 (284.00 Byte)\n",
            "Non-trainable params: 0 (0.00 Byte)\n",
            "_________________________________________________________________\n"
          ]
        }
      ]
    },
    {
      "cell_type": "code",
      "source": [
        "# Loading weihgts\n",
        "new_model.load_weights('/content/drive/MyDrive/model_n_weights/example/model_ex1_weights.h5')"
      ],
      "metadata": {
        "id": "9xYqiZan35X-"
      },
      "execution_count": 25,
      "outputs": []
    },
    {
      "cell_type": "code",
      "source": [
        "# Generate validation data\n",
        "x_val=np.random.random((50,5))\n",
        "y_val=np.random.randint(2,size=(50,1))"
      ],
      "metadata": {
        "id": "6M6UfZKs8jzj"
      },
      "execution_count": 38,
      "outputs": []
    },
    {
      "cell_type": "code",
      "source": [
        "# Predicting on loaded weihgt model\n",
        "y_pred = (model.predict(x_val) > 0.5).astype(int)\n"
      ],
      "metadata": {
        "colab": {
          "base_uri": "https://localhost:8080/"
        },
        "id": "3qC2JmZm3bZr",
        "outputId": "c32ec2ac-9806-4e6d-a9ba-59875869faf8"
      },
      "execution_count": 39,
      "outputs": [
        {
          "output_type": "stream",
          "name": "stdout",
          "text": [
            "2/2 [==============================] - 0s 13ms/step\n"
          ]
        }
      ]
    },
    {
      "cell_type": "code",
      "source": [
        "y_val, y_pred"
      ],
      "metadata": {
        "colab": {
          "base_uri": "https://localhost:8080/"
        },
        "id": "c-UevnsF9UAy",
        "outputId": "0c4ebf6b-48be-4fda-ddeb-94126d73188b"
      },
      "execution_count": 40,
      "outputs": [
        {
          "output_type": "execute_result",
          "data": {
            "text/plain": [
              "(array([[1],\n",
              "        [1],\n",
              "        [0],\n",
              "        [0],\n",
              "        [0],\n",
              "        [0],\n",
              "        [0],\n",
              "        [0],\n",
              "        [0],\n",
              "        [1],\n",
              "        [1],\n",
              "        [0],\n",
              "        [0],\n",
              "        [1],\n",
              "        [0],\n",
              "        [1],\n",
              "        [0],\n",
              "        [0],\n",
              "        [1],\n",
              "        [0],\n",
              "        [1],\n",
              "        [0],\n",
              "        [0],\n",
              "        [1],\n",
              "        [0],\n",
              "        [1],\n",
              "        [0],\n",
              "        [0],\n",
              "        [0],\n",
              "        [0],\n",
              "        [1],\n",
              "        [1],\n",
              "        [1],\n",
              "        [0],\n",
              "        [1],\n",
              "        [1],\n",
              "        [1],\n",
              "        [0],\n",
              "        [1],\n",
              "        [0],\n",
              "        [0],\n",
              "        [0],\n",
              "        [1],\n",
              "        [0],\n",
              "        [0],\n",
              "        [0],\n",
              "        [1],\n",
              "        [0],\n",
              "        [0],\n",
              "        [0]]),\n",
              " array([[0],\n",
              "        [1],\n",
              "        [0],\n",
              "        [0],\n",
              "        [0],\n",
              "        [0],\n",
              "        [0],\n",
              "        [1],\n",
              "        [0],\n",
              "        [0],\n",
              "        [0],\n",
              "        [0],\n",
              "        [0],\n",
              "        [0],\n",
              "        [0],\n",
              "        [0],\n",
              "        [0],\n",
              "        [1],\n",
              "        [0],\n",
              "        [0],\n",
              "        [0],\n",
              "        [0],\n",
              "        [0],\n",
              "        [0],\n",
              "        [0],\n",
              "        [0],\n",
              "        [0],\n",
              "        [0],\n",
              "        [0],\n",
              "        [0],\n",
              "        [1],\n",
              "        [0],\n",
              "        [0],\n",
              "        [0],\n",
              "        [0],\n",
              "        [0],\n",
              "        [1],\n",
              "        [0],\n",
              "        [0],\n",
              "        [0],\n",
              "        [0],\n",
              "        [1],\n",
              "        [0],\n",
              "        [0],\n",
              "        [0],\n",
              "        [0],\n",
              "        [0],\n",
              "        [0],\n",
              "        [0],\n",
              "        [0]]))"
            ]
          },
          "metadata": {},
          "execution_count": 40
        }
      ]
    },
    {
      "cell_type": "code",
      "source": [
        "from sklearn.metrics import accuracy_score, precision_score, confusion_matrix, ConfusionMatrixDisplay"
      ],
      "metadata": {
        "id": "pNV5c5rY7xUQ"
      },
      "execution_count": 32,
      "outputs": []
    },
    {
      "cell_type": "code",
      "source": [
        "# Calculate metrics\n",
        "accuracy = accuracy_score(y_val, y_pred)\n",
        "precision = precision_score(y_val, y_pred)\n",
        "conf_matrix = confusion_matrix(y_val, y_pred)"
      ],
      "metadata": {
        "id": "1M7tKcgi71p-"
      },
      "execution_count": 41,
      "outputs": []
    },
    {
      "cell_type": "code",
      "source": [
        "# Print metrics\n",
        "print(f\"Accuracy: {accuracy}\")\n",
        "print(f\"Precision: {precision}\")\n",
        "print(f\"Confusion Matrix:\\n{conf_matrix}\")"
      ],
      "metadata": {
        "colab": {
          "base_uri": "https://localhost:8080/"
        },
        "id": "lKyGjxZG-SVW",
        "outputId": "2ab71242-ffe9-45a3-d260-00cc3de2a08c"
      },
      "execution_count": 42,
      "outputs": [
        {
          "output_type": "stream",
          "name": "stdout",
          "text": [
            "Accuracy: 0.62\n",
            "Precision: 0.5\n",
            "Confusion Matrix:\n",
            "[[28  3]\n",
            " [16  3]]\n"
          ]
        }
      ]
    },
    {
      "cell_type": "code",
      "source": [
        "# Display confusion matrix\n",
        "disp = ConfusionMatrixDisplay(conf_matrix, display_labels=['Class 0', 'Class 1'])\n",
        "disp.plot(cmap='Blues', values_format='d')\n",
        "plt.title('Confusion Matrix')\n",
        "plt.show()"
      ],
      "metadata": {
        "colab": {
          "base_uri": "https://localhost:8080/",
          "height": 472
        },
        "id": "WqMdqRg5-Uf1",
        "outputId": "34e78237-9447-4273-83ad-d4337dd64b37"
      },
      "execution_count": 43,
      "outputs": [
        {
          "output_type": "display_data",
          "data": {
            "text/plain": [
              "<Figure size 640x480 with 2 Axes>"
            ],
            "image/png": "[encoded data removed]"
          },
          "metadata": {}
        }
      ]
    }
  ]
}