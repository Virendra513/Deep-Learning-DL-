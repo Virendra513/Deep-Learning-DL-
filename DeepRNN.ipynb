{
  "cells": [
    {
      "cell_type": "markdown",
      "source": [
        "# Deep RNN\n",
        "\n",
        "A Deep Recurrent Neural Network (Deep RNN) refers to a recurrent neural network architecture with multiple layers. Each layer in the network processes the input sequence and passes its output as the input to the next layer. Deep RNNs are designed to capture hierarchical representations and complex dependencies in sequential data."
      ],
      "metadata": {
        "id": "ILAB7aCzk0BT"
      }
    },
    {
      "cell_type": "code",
      "execution_count": null,
      "metadata": {
        "colab": {
          "background_save": true
        },
        "id": "Q-w4Wiw8-Z2i"
      },
      "outputs": [],
      "source": [
        "import tensorflow as tf\n",
        "from tensorflow.keras.datasets import imdb\n",
        "from tensorflow.keras.preprocessing.sequence import pad_sequences\n",
        "from tensorflow.keras.models import Sequential\n",
        "from tensorflow.keras.layers import Embedding, SimpleRNN, Dense"
      ]
    },
    {
      "cell_type": "code",
      "execution_count": 8,
      "metadata": {
        "id": "499g-EHf_0t3"
      },
      "outputs": [],
      "source": [
        "# Load the ImDb dataset\n",
        "num_words=10000\n",
        "(x_train, y_train), (x_test, y_test)= imdb.load_data(num_words=num_words)\n",
        "# Pad sequences to have the same length\n",
        "x_train=pad_sequences(x_train, maxlen=100)\n",
        "x_test=pad_sequences(x_test,maxlen=100)"
      ]
    },
    {
      "cell_type": "code",
      "source": [
        "# Build the Deep RNN model\n",
        "embedding_dim=32 # Dimension of embedding layer\n",
        "model= Sequential([\n",
        "    Embedding(input_dim=num_words, output_dim=embedding_dim, input_length= 100),\n",
        "    SimpleRNN(5, return_sequences=True),\n",
        "    SimpleRNN(5),# 5 RNN units\n",
        "    Dense(1, activation='sigmoid') # Binary classification (positive/nrgative)\n",
        "])"
      ],
      "metadata": {
        "id": "cqA8CYDliF3l"
      },
      "execution_count": 9,
      "outputs": []
    },
    {
      "cell_type": "code",
      "source": [
        "model.summary()"
      ],
      "metadata": {
        "colab": {
          "base_uri": "https://localhost:8080/"
        },
        "id": "O25Kh9XrimOS",
        "outputId": "9377b6fa-a836-4d25-c95f-5fa48a124c33"
      },
      "execution_count": 10,
      "outputs": [
        {
          "output_type": "stream",
          "name": "stdout",
          "text": [
            "Model: \"sequential_2\"\n",
            "_________________________________________________________________\n",
            " Layer (type)                Output Shape              Param #   \n",
            "=================================================================\n",
            " embedding_2 (Embedding)     (None, 100, 32)           320000    \n",
            "                                                                 \n",
            " simple_rnn_4 (SimpleRNN)    (None, 100, 5)            190       \n",
            "                                                                 \n",
            " simple_rnn_5 (SimpleRNN)    (None, 5)                 55        \n",
            "                                                                 \n",
            " dense_2 (Dense)             (None, 1)                 6         \n",
            "                                                                 \n",
            "=================================================================\n",
            "Total params: 320251 (1.22 MB)\n",
            "Trainable params: 320251 (1.22 MB)\n",
            "Non-trainable params: 0 (0.00 Byte)\n",
            "_________________________________________________________________\n"
          ]
        }
      ]
    },
    {
      "cell_type": "code",
      "source": [
        "# Compile the model\n",
        "model.compile(optimizer='adam', loss='binary_crossentropy', metrics=['accuracy'],)"
      ],
      "metadata": {
        "id": "EjlYMia_io6w"
      },
      "execution_count": 13,
      "outputs": []
    },
    {
      "cell_type": "code",
      "source": [
        "# Train the model\n",
        "history = model.fit(x_train,y_train, epochs=5, batch_size=32, validation_split=0.2)"
      ],
      "metadata": {
        "colab": {
          "base_uri": "https://localhost:8080/"
        },
        "id": "_A6KFWZ0jLt0",
        "outputId": "d8b97173-b053-4d90-d8b0-49a8487cd9e2"
      },
      "execution_count": 14,
      "outputs": [
        {
          "output_type": "stream",
          "name": "stdout",
          "text": [
            "Epoch 1/5\n",
            "625/625 [==============================] - 30s 44ms/step - loss: 0.6557 - accuracy: 0.5929 - val_loss: 0.5376 - val_accuracy: 0.7490\n",
            "Epoch 2/5\n",
            "625/625 [==============================] - 26s 42ms/step - loss: 0.4435 - accuracy: 0.8015 - val_loss: 0.5011 - val_accuracy: 0.7806\n",
            "Epoch 3/5\n",
            "625/625 [==============================] - 27s 43ms/step - loss: 0.2947 - accuracy: 0.8869 - val_loss: 0.5139 - val_accuracy: 0.7842\n",
            "Epoch 4/5\n",
            "625/625 [==============================] - 29s 47ms/step - loss: 0.1962 - accuracy: 0.9330 - val_loss: 0.6051 - val_accuracy: 0.7766\n",
            "Epoch 5/5\n",
            "625/625 [==============================] - 26s 41ms/step - loss: 0.1357 - accuracy: 0.9553 - val_loss: 0.6967 - val_accuracy: 0.7676\n"
          ]
        }
      ]
    }
  ],
  "metadata": {
    "colab": {
      "provenance": [],
      "authorship_tag": "ABX9TyPOinYwZAGQARnOTM9eJwMW"
    },
    "kernelspec": {
      "display_name": "Python 3",
      "name": "python3"
    },
    "language_info": {
      "name": "python"
    }
  },
  "nbformat": 4,
  "nbformat_minor": 0
}