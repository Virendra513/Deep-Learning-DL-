{
  "nbformat": 4,
  "nbformat_minor": 0,
  "metadata": {
    "colab": {
      "provenance": [],
      "gpuType": "T4",
      "authorship_tag": "ABX9TyM1DdLYbOzkRVaoo8UAnUlC"
    },
    "kernelspec": {
      "name": "python3",
      "display_name": "Python 3"
    },
    "language_info": {
      "name": "python"
    },
    "accelerator": "GPU"
  },
  "cells": [
    {
      "cell_type": "markdown",
      "source": [
        "#Sentiment Analysis\n",
        "\n",
        "Sentiment Analysis, also known as opinion mining, is a natural language processing (NLP) task that involves determining the sentiment or emotional tone expressed in a piece of text. The goal is to understand the writer's attitude, opinion, or emotion conveyed in the text. Sentiment Analysis is commonly applied to social media comments, product reviews, news articles, and customer feedback.\n",
        "\n"
      ],
      "metadata": {
        "id": "D0kHfksxOJqR"
      }
    },
    {
      "cell_type": "markdown",
      "source": [
        "Here are the key steps involved in Sentiment Analysis:\n",
        "\n",
        "**1.  Text Preprocessing:**\n",
        "\n",
        "Tokenization: Break the text into individual words or tokens.\n",
        "Lowercasing: Convert all words to lowercase to ensure uniformity.\n",
        "Removing Stopwords: Eliminate common words that don't carry much sentiment (e.g., \"and,\" \"the,\" \"is\").\n",
        "Removing Punctuation: Strip away unnecessary punctuation marks.\n",
        "Feature Extraction:\n",
        "\n",
        "Convert the preprocessed text into a numerical representation that can be used as input for machine learning models.\n",
        "Common techniques include Bag-of-Words (BoW), Term Frequency-Inverse Document Frequency (TF-IDF), or word embeddings like Word2Vec or GloVe.\n",
        "Model Selection:\n",
        "\n",
        "**2. Choose a machine learning or deep learning model** for sentiment analysis. Common choices include:\n",
        "Naive Bayes: Simple probabilistic model suitable for text classification tasks.\n",
        "Support Vector Machines (SVM): Effective for binary and multiclass classification tasks.\n",
        "Recurrent Neural Networks (RNN): Effective for capturing sequential dependencies in text.\n",
        "Transformer Models (e.g., BERT, GPT): State-of-the-art models that have achieved excellent performance on various NLP tasks.\n",
        "\n",
        "**3. Training the Model:**\n",
        "\n",
        "If using supervised learning, train the model on a labeled dataset where each text sample is associated with its sentiment label (positive, negative, neutral).\n",
        "Fine-tune the model parameters to achieve optimal performance.\n",
        "Evaluation:\n",
        "\n",
        "**4. Assess the model's performance** on a separate test dataset using metrics like accuracy, precision, recall, and F1 score.\n",
        "Inference:\n",
        "\n",
        "**5. Apply the trained model** to analyze the sentiment of new, unseen text.\n",
        "\n",
        "\n",
        "**6. Post-Processing:**\n",
        "\n",
        "Depending on the application, you may perform post-processing steps to enhance the model's predictions, such as threshold adjustment or incorporating domain-specific rules.\n",
        "Handling Imbalanced Data:\n",
        "\n",
        "Address issues related to imbalanced datasets by employing techniques like oversampling, undersampling, or using class weights during training."
      ],
      "metadata": {
        "id": "lyPMeWmXPiK5"
      }
    },
    {
      "cell_type": "markdown",
      "source": [
        "**Integar encoding**\n",
        "\n",
        "Integer encoding is a common technique to convert textual data into a numerical format that can be fed into machine learning models."
      ],
      "metadata": {
        "id": "E615YyVSGHOb"
      }
    },
    {
      "cell_type": "code",
      "execution_count": 1,
      "metadata": {
        "id": "FWHkhPfwF_YS"
      },
      "outputs": [],
      "source": [
        "import numpy as np"
      ]
    },
    {
      "cell_type": "markdown",
      "source": [
        "Basic preprocessing example."
      ],
      "metadata": {
        "id": "8ZOT_m5YmlpI"
      }
    },
    {
      "cell_type": "code",
      "source": [
        "docs=['go india',\n",
        "      'india india',\n",
        "      'hi hip hurray',\n",
        "      'inqulib zindabad',\n",
        "      'Bharat Mata ki jai',\n",
        "      'Do or die',\n",
        "      'leave our country']"
      ],
      "metadata": {
        "id": "QHSgyFDwGQ93"
      },
      "execution_count": 2,
      "outputs": []
    },
    {
      "cell_type": "code",
      "source": [
        "from keras.preprocessing.text import Tokenizer\n",
        "tokenizer=Tokenizer(oov_token='<nothing>')"
      ],
      "metadata": {
        "id": "oLtZS-7jGrsh"
      },
      "execution_count": 3,
      "outputs": []
    },
    {
      "cell_type": "code",
      "source": [
        "tokenizer.fit_on_texts(docs)"
      ],
      "metadata": {
        "id": "v2w9rNR8HGPw"
      },
      "execution_count": 7,
      "outputs": []
    },
    {
      "cell_type": "code",
      "source": [
        "tokenizer.word_index"
      ],
      "metadata": {
        "colab": {
          "base_uri": "https://localhost:8080/"
        },
        "id": "YP4lESelHR1e",
        "outputId": "3084bb71-cc34-4487-c86b-21b2f3a87069"
      },
      "execution_count": 9,
      "outputs": [
        {
          "output_type": "execute_result",
          "data": {
            "text/plain": [
              "{'<nothing>': 1,\n",
              " 'india': 2,\n",
              " 'go': 3,\n",
              " 'hi': 4,\n",
              " 'hip': 5,\n",
              " 'hurray': 6,\n",
              " 'inqulib': 7,\n",
              " 'zindabad': 8,\n",
              " 'bharat': 9,\n",
              " 'mata': 10,\n",
              " 'ki': 11,\n",
              " 'jai': 12,\n",
              " 'do': 13,\n",
              " 'or': 14,\n",
              " 'die': 15,\n",
              " 'leave': 16,\n",
              " 'our': 17,\n",
              " 'country': 18}"
            ]
          },
          "metadata": {},
          "execution_count": 9
        }
      ]
    },
    {
      "cell_type": "code",
      "source": [
        " tokenizer.word_counts"
      ],
      "metadata": {
        "colab": {
          "base_uri": "https://localhost:8080/"
        },
        "id": "CHyEkXxQHZ3F",
        "outputId": "195af511-c81d-4b36-be0b-ebe9039dff25"
      },
      "execution_count": 10,
      "outputs": [
        {
          "output_type": "execute_result",
          "data": {
            "text/plain": [
              "OrderedDict([('go', 3),\n",
              "             ('india', 9),\n",
              "             ('hi', 3),\n",
              "             ('hip', 3),\n",
              "             ('hurray', 3),\n",
              "             ('inqulib', 3),\n",
              "             ('zindabad', 3),\n",
              "             ('bharat', 3),\n",
              "             ('mata', 3),\n",
              "             ('ki', 3),\n",
              "             ('jai', 3),\n",
              "             ('do', 3),\n",
              "             ('or', 3),\n",
              "             ('die', 3),\n",
              "             ('leave', 3),\n",
              "             ('our', 3),\n",
              "             ('country', 3)])"
            ]
          },
          "metadata": {},
          "execution_count": 10
        }
      ]
    },
    {
      "cell_type": "code",
      "source": [
        " tokenizer.document_count"
      ],
      "metadata": {
        "colab": {
          "base_uri": "https://localhost:8080/"
        },
        "id": "uZOYmeWEHk71",
        "outputId": "101c1f2a-3206-4608-d0ca-fa5a19c2f989"
      },
      "execution_count": 11,
      "outputs": [
        {
          "output_type": "execute_result",
          "data": {
            "text/plain": [
              "21"
            ]
          },
          "metadata": {},
          "execution_count": 11
        }
      ]
    },
    {
      "cell_type": "code",
      "source": [
        "sequences= tokenizer.texts_to_sequences(docs)\n",
        "sequences"
      ],
      "metadata": {
        "colab": {
          "base_uri": "https://localhost:8080/"
        },
        "id": "XgjGJ7tJH2z_",
        "outputId": "9c561fdb-5a08-43c1-cec7-a6d68e80c0fe"
      },
      "execution_count": 12,
      "outputs": [
        {
          "output_type": "execute_result",
          "data": {
            "text/plain": [
              "[[3, 2],\n",
              " [2, 2],\n",
              " [4, 5, 6],\n",
              " [7, 8],\n",
              " [9, 10, 11, 12],\n",
              " [13, 14, 15],\n",
              " [16, 17, 18]]"
            ]
          },
          "metadata": {},
          "execution_count": 12
        }
      ]
    },
    {
      "cell_type": "code",
      "source": [
        "from keras.utils import pad_sequences"
      ],
      "metadata": {
        "id": "m2Wds_r9IDfi"
      },
      "execution_count": 13,
      "outputs": []
    },
    {
      "cell_type": "code",
      "source": [
        "sequences= pad_sequences(sequences, padding='post')\n",
        "sequences"
      ],
      "metadata": {
        "colab": {
          "base_uri": "https://localhost:8080/"
        },
        "id": "O4nQFpcXINVa",
        "outputId": "25f82c70-bacd-468d-8a19-0cc81406025c"
      },
      "execution_count": 14,
      "outputs": [
        {
          "output_type": "execute_result",
          "data": {
            "text/plain": [
              "array([[ 3,  2,  0,  0],\n",
              "       [ 2,  2,  0,  0],\n",
              "       [ 4,  5,  6,  0],\n",
              "       [ 7,  8,  0,  0],\n",
              "       [ 9, 10, 11, 12],\n",
              "       [13, 14, 15,  0],\n",
              "       [16, 17, 18,  0]], dtype=int32)"
            ]
          },
          "metadata": {},
          "execution_count": 14
        }
      ]
    },
    {
      "cell_type": "markdown",
      "source": [
        "# Analysis on imdb dataset"
      ],
      "metadata": {
        "id": "GcPGE7qNSmxt"
      }
    },
    {
      "cell_type": "code",
      "source": [
        "from keras.datasets import imdb\n",
        "from keras import Sequential\n",
        "from keras.layers import Dense, SimpleRNN, Embedding, Flatten"
      ],
      "metadata": {
        "id": "D4ak2m5qIpFW"
      },
      "execution_count": 16,
      "outputs": []
    },
    {
      "cell_type": "code",
      "source": [
        "(x_train,y_train),(x_test,y_test)= imdb.load_data()"
      ],
      "metadata": {
        "colab": {
          "base_uri": "https://localhost:8080/"
        },
        "id": "HWmLkAyEI5pm",
        "outputId": "cd82f8dc-a79a-4ffb-8e6f-b9f29918e0dd"
      },
      "execution_count": 17,
      "outputs": [
        {
          "output_type": "stream",
          "name": "stdout",
          "text": [
            "Downloading data from https://storage.googleapis.com/tensorflow/tf-keras-datasets/imdb.npz\n",
            "17464789/17464789 [==============================] - 0s 0us/step\n"
          ]
        }
      ]
    },
    {
      "cell_type": "code",
      "source": [
        "x_train"
      ],
      "metadata": {
        "colab": {
          "base_uri": "https://localhost:8080/"
        },
        "id": "ASBJcKVdJHXn",
        "outputId": "8d94d1d0-44ec-4842-cb71-060493355a0a"
      },
      "execution_count": 18,
      "outputs": [
        {
          "output_type": "execute_result",
          "data": {
            "text/plain": [
              "array([list([1, 14, 22, 16, 43, 530, 973, 1622, 1385, 65, 458, 4468, 66, 3941, 4, 173, 36, 256, 5, 25, 100, 43, 838, 112, 50, 670, 22665, 9, 35, 480, 284, 5, 150, 4, 172, 112, 167, 21631, 336, 385, 39, 4, 172, 4536, 1111, 17, 546, 38, 13, 447, 4, 192, 50, 16, 6, 147, 2025, 19, 14, 22, 4, 1920, 4613, 469, 4, 22, 71, 87, 12, 16, 43, 530, 38, 76, 15, 13, 1247, 4, 22, 17, 515, 17, 12, 16, 626, 18, 19193, 5, 62, 386, 12, 8, 316, 8, 106, 5, 4, 2223, 5244, 16, 480, 66, 3785, 33, 4, 130, 12, 16, 38, 619, 5, 25, 124, 51, 36, 135, 48, 25, 1415, 33, 6, 22, 12, 215, 28, 77, 52, 5, 14, 407, 16, 82, 10311, 8, 4, 107, 117, 5952, 15, 256, 4, 31050, 7, 3766, 5, 723, 36, 71, 43, 530, 476, 26, 400, 317, 46, 7, 4, 12118, 1029, 13, 104, 88, 4, 381, 15, 297, 98, 32, 2071, 56, 26, 141, 6, 194, 7486, 18, 4, 226, 22, 21, 134, 476, 26, 480, 5, 144, 30, 5535, 18, 51, 36, 28, 224, 92, 25, 104, 4, 226, 65, 16, 38, 1334, 88, 12, 16, 283, 5, 16, 4472, 113, 103, 32, 15, 16, 5345, 19, 178, 32]),\n",
              "       list([1, 194, 1153, 194, 8255, 78, 228, 5, 6, 1463, 4369, 5012, 134, 26, 4, 715, 8, 118, 1634, 14, 394, 20, 13, 119, 954, 189, 102, 5, 207, 110, 3103, 21, 14, 69, 188, 8, 30, 23, 7, 4, 249, 126, 93, 4, 114, 9, 2300, 1523, 5, 647, 4, 116, 9, 35, 8163, 4, 229, 9, 340, 1322, 4, 118, 9, 4, 130, 4901, 19, 4, 1002, 5, 89, 29, 952, 46, 37, 4, 455, 9, 45, 43, 38, 1543, 1905, 398, 4, 1649, 26, 6853, 5, 163, 11, 3215, 10156, 4, 1153, 9, 194, 775, 7, 8255, 11596, 349, 2637, 148, 605, 15358, 8003, 15, 123, 125, 68, 23141, 6853, 15, 349, 165, 4362, 98, 5, 4, 228, 9, 43, 36893, 1157, 15, 299, 120, 5, 120, 174, 11, 220, 175, 136, 50, 9, 4373, 228, 8255, 5, 25249, 656, 245, 2350, 5, 4, 9837, 131, 152, 491, 18, 46151, 32, 7464, 1212, 14, 9, 6, 371, 78, 22, 625, 64, 1382, 9, 8, 168, 145, 23, 4, 1690, 15, 16, 4, 1355, 5, 28, 6, 52, 154, 462, 33, 89, 78, 285, 16, 145, 95]),\n",
              "       list([1, 14, 47, 8, 30, 31, 7, 4, 249, 108, 7, 4, 5974, 54, 61, 369, 13, 71, 149, 14, 22, 112, 4, 2401, 311, 12, 16, 3711, 33, 75, 43, 1829, 296, 4, 86, 320, 35, 534, 19, 263, 4821, 1301, 4, 1873, 33, 89, 78, 12, 66, 16, 4, 360, 7, 4, 58, 316, 334, 11, 4, 1716, 43, 645, 662, 8, 257, 85, 1200, 42, 1228, 2578, 83, 68, 3912, 15, 36, 165, 1539, 278, 36, 69, 44076, 780, 8, 106, 14, 6905, 1338, 18, 6, 22, 12, 215, 28, 610, 40, 6, 87, 326, 23, 2300, 21, 23, 22, 12, 272, 40, 57, 31, 11, 4, 22, 47, 6, 2307, 51, 9, 170, 23, 595, 116, 595, 1352, 13, 191, 79, 638, 89, 51428, 14, 9, 8, 106, 607, 624, 35, 534, 6, 227, 7, 129, 113]),\n",
              "       ...,\n",
              "       list([1, 11, 6, 230, 245, 6401, 9, 6, 1225, 446, 86527, 45, 2174, 84, 8322, 4007, 21, 4, 912, 84, 14532, 325, 725, 134, 15271, 1715, 84, 5, 36, 28, 57, 1099, 21, 8, 140, 8, 703, 5, 11656, 84, 56, 18, 1644, 14, 9, 31, 7, 4, 9406, 1209, 2295, 26094, 1008, 18, 6, 20, 207, 110, 563, 12, 8, 2901, 17793, 8, 97, 6, 20, 53, 4767, 74, 4, 460, 364, 1273, 29, 270, 11, 960, 108, 45, 40, 29, 2961, 395, 11, 6, 4065, 500, 7, 14492, 89, 364, 70, 29, 140, 4, 64, 4780, 11, 4, 2678, 26, 178, 4, 529, 443, 17793, 5, 27, 710, 117, 74936, 8123, 165, 47, 84, 37, 131, 818, 14, 595, 10, 10, 61, 1242, 1209, 10, 10, 288, 2260, 1702, 34, 2901, 17793, 4, 65, 496, 4, 231, 7, 790, 5, 6, 320, 234, 2766, 234, 1119, 1574, 7, 496, 4, 139, 929, 2901, 17793, 7750, 5, 4241, 18, 4, 8497, 13164, 250, 11, 1818, 7561, 4, 4217, 5408, 747, 1115, 372, 1890, 1006, 541, 9303, 7, 4, 59, 11027, 4, 3586, 22459]),\n",
              "       list([1, 1446, 7079, 69, 72, 3305, 13, 610, 930, 8, 12, 582, 23, 5, 16, 484, 685, 54, 349, 11, 4120, 2959, 45, 58, 1466, 13, 197, 12, 16, 43, 23, 21469, 5, 62, 30, 145, 402, 11, 4131, 51, 575, 32, 61, 369, 71, 66, 770, 12, 1054, 75, 100, 2198, 8, 4, 105, 37, 69, 147, 712, 75, 3543, 44, 257, 390, 5, 69, 263, 514, 105, 50, 286, 1814, 23, 4, 123, 13, 161, 40, 5, 421, 4, 116, 16, 897, 13, 40691, 40, 319, 5872, 112, 6700, 11, 4803, 121, 25, 70, 3468, 4, 719, 3798, 13, 18, 31, 62, 40, 8, 7200, 4, 29455, 7, 14, 123, 5, 942, 25, 8, 721, 12, 145, 5, 202, 12, 160, 580, 202, 12, 6, 52, 58, 11418, 92, 401, 728, 12, 39, 14, 251, 8, 15, 251, 5, 21213, 12, 38, 84, 80, 124, 12, 9, 23]),\n",
              "       list([1, 17, 6, 194, 337, 7, 4, 204, 22, 45, 254, 8, 106, 14, 123, 4, 12815, 270, 14437, 5, 16923, 12255, 732, 2098, 101, 405, 39, 14, 1034, 4, 1310, 9, 115, 50, 305, 12, 47, 4, 168, 5, 235, 7, 38, 111, 699, 102, 7, 4, 4039, 9245, 9, 24, 6, 78, 1099, 17, 2345, 16553, 21, 27, 9685, 6139, 5, 29043, 1603, 92, 1183, 4, 1310, 7, 4, 204, 42, 97, 90, 35, 221, 109, 29, 127, 27, 118, 8, 97, 12, 157, 21, 6789, 85010, 9, 6, 66, 78, 1099, 4, 631, 1191, 5, 2642, 272, 191, 1070, 6, 7585, 8, 2197, 70907, 10755, 544, 5, 383, 1271, 848, 1468, 12183, 497, 16876, 8, 1597, 8778, 19280, 21, 60, 27, 239, 9, 43, 8368, 209, 405, 10, 10, 12, 764, 40, 4, 248, 20, 12, 16, 5, 174, 1791, 72, 7, 51, 6, 1739, 22, 4, 204, 131, 9])],\n",
              "      dtype=object)"
            ]
          },
          "metadata": {},
          "execution_count": 18
        }
      ]
    },
    {
      "cell_type": "code",
      "source": [
        "x_train.shape, x_test.shape"
      ],
      "metadata": {
        "colab": {
          "base_uri": "https://localhost:8080/"
        },
        "id": "KIlD6f9dKv6U",
        "outputId": "212b235c-1989-4d59-b168-79a1534eecd7"
      },
      "execution_count": 19,
      "outputs": [
        {
          "output_type": "execute_result",
          "data": {
            "text/plain": [
              "((25000,), (25000,))"
            ]
          },
          "metadata": {},
          "execution_count": 19
        }
      ]
    },
    {
      "cell_type": "code",
      "source": [
        "len(x_train[0]),len(x_train[1]),"
      ],
      "metadata": {
        "colab": {
          "base_uri": "https://localhost:8080/"
        },
        "id": "INSqJe0dK0Hk",
        "outputId": "0224db02-3b67-46ef-d752-1701650e0438"
      },
      "execution_count": 20,
      "outputs": [
        {
          "output_type": "execute_result",
          "data": {
            "text/plain": [
              "(218, 189)"
            ]
          },
          "metadata": {},
          "execution_count": 20
        }
      ]
    },
    {
      "cell_type": "code",
      "source": [
        "x_train= pad_sequences(x_train, padding='post',maxlen=100)\n",
        "x_test= pad_sequences(x_test, padding='post',maxlen=100)"
      ],
      "metadata": {
        "id": "KJlk0XjnK5fs"
      },
      "execution_count": 21,
      "outputs": []
    },
    {
      "cell_type": "code",
      "source": [
        "len(x_train[0]),len(x_train[20])"
      ],
      "metadata": {
        "colab": {
          "base_uri": "https://localhost:8080/"
        },
        "id": "eW96FarbLlUa",
        "outputId": "c7db0614-c143-4921-cb5e-fb17eff7b80a"
      },
      "execution_count": 22,
      "outputs": [
        {
          "output_type": "execute_result",
          "data": {
            "text/plain": [
              "(100, 100)"
            ]
          },
          "metadata": {},
          "execution_count": 22
        }
      ]
    },
    {
      "cell_type": "code",
      "source": [
        "model= Sequential()\n",
        "model.add(SimpleRNN(32,input_shape=(100,1), return_sequences=False)) # return sequences will give output at every time step\n",
        "model.add(Dense(1,activation='sigmoid'))"
      ],
      "metadata": {
        "id": "NyajL-MVLp2h"
      },
      "execution_count": 23,
      "outputs": []
    },
    {
      "cell_type": "code",
      "source": [
        "model.summary()"
      ],
      "metadata": {
        "colab": {
          "base_uri": "https://localhost:8080/"
        },
        "id": "Kc9lO-X1ML5f",
        "outputId": "b19199fa-a2f4-4edf-d372-c39d74d83e9d"
      },
      "execution_count": 24,
      "outputs": [
        {
          "output_type": "stream",
          "name": "stdout",
          "text": [
            "Model: \"sequential\"\n",
            "_________________________________________________________________\n",
            " Layer (type)                Output Shape              Param #   \n",
            "=================================================================\n",
            " simple_rnn (SimpleRNN)      (None, 32)                1088      \n",
            "                                                                 \n",
            " dense (Dense)               (None, 1)                 33        \n",
            "                                                                 \n",
            "=================================================================\n",
            "Total params: 1121 (4.38 KB)\n",
            "Trainable params: 1121 (4.38 KB)\n",
            "Non-trainable params: 0 (0.00 Byte)\n",
            "_________________________________________________________________\n"
          ]
        }
      ]
    },
    {
      "cell_type": "code",
      "source": [
        "from keras.utils import plot_model"
      ],
      "metadata": {
        "id": "LMlzgcC9htFS"
      },
      "execution_count": 25,
      "outputs": []
    },
    {
      "cell_type": "code",
      "source": [
        "plot_model(model)"
      ],
      "metadata": {
        "colab": {
          "base_uri": "https://localhost:8080/",
          "height": 272
        },
        "id": "D4n_3iTlhuO6",
        "outputId": "92b53ca1-a7cd-4190-f5bc-9baaf654be1b"
      },
      "execution_count": 26,
      "outputs": [
        {
          "output_type": "execute_result",
          "data": {
            "image/png": "[encoded data removed]",
            "text/plain": [
              "<IPython.core.display.Image object>"
            ]
          },
          "metadata": {},
          "execution_count": 26
        }
      ]
    },
    {
      "cell_type": "code",
      "source": [
        "model.compile(loss='binary_crossentropy', optimizer='adam', metrics=['accuracy'])"
      ],
      "metadata": {
        "id": "QJaRO9EGMpsp"
      },
      "execution_count": 27,
      "outputs": []
    },
    {
      "cell_type": "code",
      "source": [
        "history=model.fit(x_train,y_train,epochs=10, validation_data=(x_test,y_test))"
      ],
      "metadata": {
        "colab": {
          "base_uri": "https://localhost:8080/"
        },
        "id": "yniq2TrvM_la",
        "outputId": "f81924dc-f545-4f5c-fbfe-a9a2aac0483d"
      },
      "execution_count": 29,
      "outputs": [
        {
          "output_type": "stream",
          "name": "stdout",
          "text": [
            "Epoch 1/10\n",
            "782/782 [==============================] - 65s 76ms/step - loss: 0.6950 - accuracy: 0.5066 - val_loss: 0.6940 - val_accuracy: 0.5052\n",
            "Epoch 2/10\n",
            "782/782 [==============================] - 67s 85ms/step - loss: 0.6933 - accuracy: 0.5128 - val_loss: 0.6923 - val_accuracy: 0.5079\n",
            "Epoch 3/10\n",
            "782/782 [==============================] - 57s 73ms/step - loss: 0.6932 - accuracy: 0.5090 - val_loss: 0.6950 - val_accuracy: 0.5096\n",
            "Epoch 4/10\n",
            "782/782 [==============================] - 53s 67ms/step - loss: 0.6931 - accuracy: 0.5043 - val_loss: 0.6924 - val_accuracy: 0.5135\n",
            "Epoch 5/10\n",
            "782/782 [==============================] - 60s 77ms/step - loss: 0.6924 - accuracy: 0.5164 - val_loss: 0.6925 - val_accuracy: 0.5070\n",
            "Epoch 6/10\n",
            "782/782 [==============================] - 52s 67ms/step - loss: 0.6924 - accuracy: 0.5132 - val_loss: 0.6953 - val_accuracy: 0.5114\n",
            "Epoch 7/10\n",
            "782/782 [==============================] - 60s 77ms/step - loss: 0.6923 - accuracy: 0.5112 - val_loss: 0.6934 - val_accuracy: 0.5053\n",
            "Epoch 8/10\n",
            "782/782 [==============================] - 63s 81ms/step - loss: 0.6922 - accuracy: 0.5162 - val_loss: 0.6931 - val_accuracy: 0.5130\n",
            "Epoch 9/10\n",
            "782/782 [==============================] - 57s 73ms/step - loss: 0.6927 - accuracy: 0.5115 - val_loss: 0.6931 - val_accuracy: 0.5108\n",
            "Epoch 10/10\n",
            "782/782 [==============================] - 58s 75ms/step - loss: 0.6924 - accuracy: 0.5150 - val_loss: 0.6972 - val_accuracy: 0.5102\n"
          ]
        }
      ]
    },
    {
      "cell_type": "code",
      "source": [
        "# Plot Trainning accurcy and Validation accuracy\n",
        "import matplotlib.pyplot as plt\n",
        "plt.plot(history.history['accuracy'], color='red',label='Train')\n",
        "plt.plot(history.history['val_accuracy'], color='red',label='Test')"
      ],
      "metadata": {
        "colab": {
          "base_uri": "https://localhost:8080/",
          "height": 447
        },
        "id": "gPKaPVYQjeGJ",
        "outputId": "901ceff9-0e09-477e-e2dd-224a00d371de"
      },
      "execution_count": 30,
      "outputs": [
        {
          "output_type": "execute_result",
          "data": {
            "text/plain": [
              "[<matplotlib.lines.Line2D at 0x7ca455cdebc0>]"
            ]
          },
          "metadata": {},
          "execution_count": 30
        },
        {
          "output_type": "display_data",
          "data": {
            "text/plain": [
              "<Figure size 640x480 with 1 Axes>"
            ],
            "image/png": "[encoded data removed]"
          },
          "metadata": {}
        }
      ]
    },
    {
      "cell_type": "code",
      "source": [
        "# Plot Trainning loss and Validation loss\n",
        "import matplotlib.pyplot as plt\n",
        "plt.plot(history.history['loss'], color='red',label='Train')\n",
        "plt.plot(history.history['val_loss'], color='red',label='Test')"
      ],
      "metadata": {
        "colab": {
          "base_uri": "https://localhost:8080/",
          "height": 447
        },
        "id": "vkZMT7WIjicR",
        "outputId": "46def151-ba7b-4a7a-b268-efae1b818274"
      },
      "execution_count": 31,
      "outputs": [
        {
          "output_type": "execute_result",
          "data": {
            "text/plain": [
              "[<matplotlib.lines.Line2D at 0x7ca4592d1990>]"
            ]
          },
          "metadata": {},
          "execution_count": 31
        },
        {
          "output_type": "display_data",
          "data": {
            "text/plain": [
              "<Figure size 640x480 with 1 Axes>"
            ],
            "image/png": "[encoded data removed]"
          },
          "metadata": {}
        }
      ]
    },
    {
      "cell_type": "markdown",
      "source": [
        "#**Embedding**\n",
        "In natural language processing, word embedding is a term used for the representation of words for text analysis, typically in the form of a rela-valued vectors that encodes the meaning of the word such that the word that are closer in the vector space are expected to be similar in menaing.\n",
        "\n",
        "\n",
        "1.   Dense Representation (Non-zero values -> less dimension)\n",
        "2.   Semantic Meaning\n",
        "\n",
        "e.g. Word2Vec, Glove"
      ],
      "metadata": {
        "id": "U0kbgS90NWaN"
      }
    },
    {
      "cell_type": "markdown",
      "source": [
        "#DeepLearning-> Embedding learn-> Enbedding-> RNN-> Se4ntiment"
      ],
      "metadata": {
        "id": "OkqB7MkhUrYY"
      }
    },
    {
      "cell_type": "code",
      "source": [
        "docs=['go india',\n",
        "      'india india',\n",
        "      'hi hip hurray',\n",
        "      'inqulib zindabad',\n",
        "      'Bharat Mata ki jai',\n",
        "      'Do or die',\n",
        "      'leave our country']"
      ],
      "metadata": {
        "id": "tpSZHm1OOrGQ"
      },
      "execution_count": 32,
      "outputs": []
    },
    {
      "cell_type": "code",
      "source": [
        "from keras.preprocessing.text import Tokenizer\n",
        "tokenizer=Tokenizer(oov_token='<nothing>')"
      ],
      "metadata": {
        "id": "DdBMKze1Ov-3"
      },
      "execution_count": 33,
      "outputs": []
    },
    {
      "cell_type": "code",
      "source": [
        "tokenizer.fit_on_texts(docs)"
      ],
      "metadata": {
        "id": "YWL-th_yO4RP"
      },
      "execution_count": 34,
      "outputs": []
    },
    {
      "cell_type": "code",
      "source": [
        "tokenizer.word_index"
      ],
      "metadata": {
        "colab": {
          "base_uri": "https://localhost:8080/"
        },
        "id": "OqeRg5xxPFWs",
        "outputId": "a6f87d70-ce9e-4d96-9857-00f7105c2649"
      },
      "execution_count": 35,
      "outputs": [
        {
          "output_type": "execute_result",
          "data": {
            "text/plain": [
              "{'<nothing>': 1,\n",
              " 'india': 2,\n",
              " 'go': 3,\n",
              " 'hi': 4,\n",
              " 'hip': 5,\n",
              " 'hurray': 6,\n",
              " 'inqulib': 7,\n",
              " 'zindabad': 8,\n",
              " 'bharat': 9,\n",
              " 'mata': 10,\n",
              " 'ki': 11,\n",
              " 'jai': 12,\n",
              " 'do': 13,\n",
              " 'or': 14,\n",
              " 'die': 15,\n",
              " 'leave': 16,\n",
              " 'our': 17,\n",
              " 'country': 18}"
            ]
          },
          "metadata": {},
          "execution_count": 35
        }
      ]
    },
    {
      "cell_type": "code",
      "source": [
        "sequences= tokenizer.texts_to_sequences(docs)\n",
        "sequences"
      ],
      "metadata": {
        "colab": {
          "base_uri": "https://localhost:8080/"
        },
        "id": "Eva3N_PYO5vX",
        "outputId": "39c121b9-d7c7-4657-aff6-f2ad30b1afea"
      },
      "execution_count": 36,
      "outputs": [
        {
          "output_type": "execute_result",
          "data": {
            "text/plain": [
              "[[3, 2],\n",
              " [2, 2],\n",
              " [4, 5, 6],\n",
              " [7, 8],\n",
              " [9, 10, 11, 12],\n",
              " [13, 14, 15],\n",
              " [16, 17, 18]]"
            ]
          },
          "metadata": {},
          "execution_count": 36
        }
      ]
    },
    {
      "cell_type": "code",
      "source": [
        "from keras.utils import pad_sequences\n",
        "sequences= pad_sequences(sequences, padding='post')\n",
        "sequences"
      ],
      "metadata": {
        "colab": {
          "base_uri": "https://localhost:8080/"
        },
        "id": "iLUIJKy3PKI6",
        "outputId": "d7d8a6c3-d496-4bef-fd78-04ccfdbde8da"
      },
      "execution_count": 37,
      "outputs": [
        {
          "output_type": "execute_result",
          "data": {
            "text/plain": [
              "array([[ 3,  2,  0,  0],\n",
              "       [ 2,  2,  0,  0],\n",
              "       [ 4,  5,  6,  0],\n",
              "       [ 7,  8,  0,  0],\n",
              "       [ 9, 10, 11, 12],\n",
              "       [13, 14, 15,  0],\n",
              "       [16, 17, 18,  0]], dtype=int32)"
            ]
          },
          "metadata": {},
          "execution_count": 37
        }
      ]
    },
    {
      "cell_type": "code",
      "source": [
        "# Create model\n",
        "model= Sequential()\n",
        "model.add(Embedding(18,output_dim=2, input_length=4))\n",
        "model.summary()"
      ],
      "metadata": {
        "colab": {
          "base_uri": "https://localhost:8080/"
        },
        "id": "SfPCMwVMPVHT",
        "outputId": "c82a9f0b-9090-4907-ed7a-fe2c68c2bf70"
      },
      "execution_count": 39,
      "outputs": [
        {
          "output_type": "stream",
          "name": "stdout",
          "text": [
            "Model: \"sequential_2\"\n",
            "_________________________________________________________________\n",
            " Layer (type)                Output Shape              Param #   \n",
            "=================================================================\n",
            " embedding_1 (Embedding)     (None, 4, 2)              36        \n",
            "                                                                 \n",
            "=================================================================\n",
            "Total params: 36 (144.00 Byte)\n",
            "Trainable params: 36 (144.00 Byte)\n",
            "Non-trainable params: 0 (0.00 Byte)\n",
            "_________________________________________________________________\n"
          ]
        }
      ]
    },
    {
      "cell_type": "code",
      "source": [
        "model.compile('adam','accuracy')"
      ],
      "metadata": {
        "id": "jxWWuIjpQBLa"
      },
      "execution_count": 40,
      "outputs": []
    },
    {
      "cell_type": "code",
      "source": [
        "pred= model.predict(sequences)\n",
        "print(pred)\n"
      ],
      "metadata": {
        "colab": {
          "base_uri": "https://localhost:8080/"
        },
        "id": "WQgwSOXdQJoy",
        "outputId": "03cf4b6d-5030-4cb6-9a1c-65fe67904c85"
      },
      "execution_count": 41,
      "outputs": [
        {
          "output_type": "stream",
          "name": "stdout",
          "text": [
            "1/1 [==============================] - 0s 119ms/step\n",
            "[[[-0.04211763 -0.01568152]\n",
            "  [-0.04343256  0.0127246 ]\n",
            "  [-0.03099253  0.00968466]\n",
            "  [-0.03099253  0.00968466]]\n",
            "\n",
            " [[-0.04343256  0.0127246 ]\n",
            "  [-0.04343256  0.0127246 ]\n",
            "  [-0.03099253  0.00968466]\n",
            "  [-0.03099253  0.00968466]]\n",
            "\n",
            " [[ 0.02255427 -0.03494356]\n",
            "  [-0.0463467   0.03644915]\n",
            "  [-0.01205944  0.04719948]\n",
            "  [-0.03099253  0.00968466]]\n",
            "\n",
            " [[-0.03676801 -0.02124045]\n",
            "  [ 0.03215841  0.03253562]\n",
            "  [-0.03099253  0.00968466]\n",
            "  [-0.03099253  0.00968466]]\n",
            "\n",
            " [[-0.01918273  0.01851625]\n",
            "  [ 0.03242003  0.0469849 ]\n",
            "  [ 0.03565617  0.00842013]\n",
            "  [-0.04878597 -0.01841431]]\n",
            "\n",
            " [[ 0.03972277  0.00390495]\n",
            "  [-0.01485838 -0.02751511]\n",
            "  [ 0.01600834  0.01908607]\n",
            "  [-0.03099253  0.00968466]]\n",
            "\n",
            " [[-0.04806769  0.01264209]\n",
            "  [ 0.03097636 -0.00843395]\n",
            "  [ 0.          0.        ]\n",
            "  [-0.03099253  0.00968466]]]\n"
          ]
        }
      ]
    },
    {
      "cell_type": "markdown",
      "source": [
        "#RNN Model with emmddeing layer for Sentiment analysis"
      ],
      "metadata": {
        "id": "sYYsCrDpVvh-"
      }
    },
    {
      "cell_type": "code",
      "source": [
        "# Create RNN model\n",
        "model= Sequential()\n",
        "model.add(Embedding(25000,output_dim=2, input_length=100))\n",
        "model.add(SimpleRNN(32, return_sequences=False)) # return sequences will give output at every time step\n",
        "model.add(Dense(1,activation='sigmoid'))\n",
        "model.summary()"
      ],
      "metadata": {
        "colab": {
          "base_uri": "https://localhost:8080/"
        },
        "id": "ojuYiYW9QQ15",
        "outputId": "420912b2-d918-4e1b-fa5c-bc69d0a9ff07"
      },
      "execution_count": 42,
      "outputs": [
        {
          "output_type": "stream",
          "name": "stdout",
          "text": [
            "Model: \"sequential_3\"\n",
            "_________________________________________________________________\n",
            " Layer (type)                Output Shape              Param #   \n",
            "=================================================================\n",
            " embedding_2 (Embedding)     (None, 100, 2)            50000     \n",
            "                                                                 \n",
            " simple_rnn_1 (SimpleRNN)    (None, 32)                1120      \n",
            "                                                                 \n",
            " dense_1 (Dense)             (None, 1)                 33        \n",
            "                                                                 \n",
            "=================================================================\n",
            "Total params: 51153 (199.82 KB)\n",
            "Trainable params: 51153 (199.82 KB)\n",
            "Non-trainable params: 0 (0.00 Byte)\n",
            "_________________________________________________________________\n"
          ]
        }
      ]
    },
    {
      "cell_type": "code",
      "source": [
        "from keras.utils import plot_model"
      ],
      "metadata": {
        "id": "TXeZC4Kuhj27"
      },
      "execution_count": 43,
      "outputs": []
    },
    {
      "cell_type": "code",
      "source": [
        "plot_model(model)"
      ],
      "metadata": {
        "colab": {
          "base_uri": "https://localhost:8080/",
          "height": 369
        },
        "id": "qsRQ6OP2hooM",
        "outputId": "73cc4d53-1e8b-4532-f912-09eb8db2b4b5"
      },
      "execution_count": 44,
      "outputs": [
        {
          "output_type": "execute_result",
          "data": {
            "image/png": "[encoded data removed]",
            "text/plain": [
              "<IPython.core.display.Image object>"
            ]
          },
          "metadata": {},
          "execution_count": 44
        }
      ]
    },
    {
      "cell_type": "code",
      "source": [
        "model.compile(loss='binary_crossentropy', optimizer='adam', metrics=['accuracy'])\n",
        "history=model.fit(x_train,y_train,epochs=10, validation_data=(x_test,y_test))"
      ],
      "metadata": {
        "colab": {
          "base_uri": "https://localhost:8080/"
        },
        "id": "5aIyPgYLhIkD",
        "outputId": "616d38cf-39ac-4d63-fb89-99ee426909c3"
      },
      "execution_count": 45,
      "outputs": [
        {
          "output_type": "stream",
          "name": "stdout",
          "text": [
            "Epoch 1/10\n",
            "782/782 [==============================] - 111s 140ms/step - loss: 0.6757 - accuracy: 0.5679 - val_loss: 0.4906 - val_accuracy: 0.7788\n",
            "Epoch 2/10\n",
            "782/782 [==============================] - 87s 111ms/step - loss: 0.4165 - accuracy: 0.8159 - val_loss: 0.3787 - val_accuracy: 0.8330\n",
            "Epoch 3/10\n",
            "782/782 [==============================] - 84s 108ms/step - loss: 0.2925 - accuracy: 0.8846 - val_loss: 0.4027 - val_accuracy: 0.8329\n",
            "Epoch 4/10\n",
            "782/782 [==============================] - 81s 104ms/step - loss: 0.2222 - accuracy: 0.9190 - val_loss: 0.4312 - val_accuracy: 0.8275\n",
            "Epoch 5/10\n",
            "782/782 [==============================] - 82s 105ms/step - loss: 0.1783 - accuracy: 0.9376 - val_loss: 0.4756 - val_accuracy: 0.8284\n",
            "Epoch 6/10\n",
            "782/782 [==============================] - 81s 104ms/step - loss: 0.1425 - accuracy: 0.9519 - val_loss: 0.4689 - val_accuracy: 0.8306\n",
            "Epoch 7/10\n",
            "782/782 [==============================] - 81s 103ms/step - loss: 0.1175 - accuracy: 0.9618 - val_loss: 0.5307 - val_accuracy: 0.8217\n",
            "Epoch 8/10\n",
            "782/782 [==============================] - 82s 104ms/step - loss: 0.1042 - accuracy: 0.9662 - val_loss: 0.6861 - val_accuracy: 0.8113\n",
            "Epoch 9/10\n",
            "782/782 [==============================] - 90s 115ms/step - loss: 0.0848 - accuracy: 0.9744 - val_loss: 0.6243 - val_accuracy: 0.8175\n",
            "Epoch 10/10\n",
            "782/782 [==============================] - 90s 115ms/step - loss: 0.0777 - accuracy: 0.9761 - val_loss: 0.5667 - val_accuracy: 0.8124\n"
          ]
        }
      ]
    },
    {
      "cell_type": "code",
      "source": [
        "# Plot Trainning Accuracy and Validation Accuracy\n",
        "import matplotlib.pyplot as plt\n",
        "plt.plot(history.history['accuracy'], color='red',label='Train')\n",
        "plt.plot(history.history['val_accuracy'], color='red',label='Test')"
      ],
      "metadata": {
        "colab": {
          "base_uri": "https://localhost:8080/",
          "height": 447
        },
        "id": "2cKv8LKoiUFB",
        "outputId": "08794d31-cf49-443c-af92-cf8d5a1f2598"
      },
      "execution_count": 46,
      "outputs": [
        {
          "output_type": "execute_result",
          "data": {
            "text/plain": [
              "[<matplotlib.lines.Line2D at 0x7ca4572b5840>]"
            ]
          },
          "metadata": {},
          "execution_count": 46
        },
        {
          "output_type": "display_data",
          "data": {
            "text/plain": [
              "<Figure size 640x480 with 1 Axes>"
            ],
            "image/png": "[encoded data removed]"
          },
          "metadata": {}
        }
      ]
    },
    {
      "cell_type": "code",
      "source": [
        "# Plot Trainning loss and Validation loss\n",
        "import matplotlib.pyplot as plt\n",
        "plt.plot(history.history['loss'], color='red',label='Train')\n",
        "plt.plot(history.history['val_loss'], color='red',label='Test')"
      ],
      "metadata": {
        "colab": {
          "base_uri": "https://localhost:8080/",
          "height": 447
        },
        "id": "mHt-Zj3GjWGw",
        "outputId": "f888e61e-7451-49ff-b0cf-d05f636303d0"
      },
      "execution_count": 47,
      "outputs": [
        {
          "output_type": "execute_result",
          "data": {
            "text/plain": [
              "[<matplotlib.lines.Line2D at 0x7ca45725e8c0>]"
            ]
          },
          "metadata": {},
          "execution_count": 47
        },
        {
          "output_type": "display_data",
          "data": {
            "text/plain": [
              "<Figure size 640x480 with 1 Axes>"
            ],
            "image/png": "[encoded data removed]"
          },
          "metadata": {}
        }
      ]
    },
    {
      "cell_type": "code",
      "source": [
        "x=['Movie is bad']\n"
      ],
      "metadata": {
        "id": "ZW6o7WflNv8I"
      },
      "execution_count": 66,
      "outputs": []
    },
    {
      "cell_type": "code",
      "source": [
        "tokenizer=Tokenizer(oov_token='<nothing>')\n",
        "tokenizer.fit_on_texts(x)\n"
      ],
      "metadata": {
        "id": "4ZbIBMi6ZlKk"
      },
      "execution_count": 67,
      "outputs": []
    },
    {
      "cell_type": "code",
      "source": [
        "tokenizer.word_index"
      ],
      "metadata": {
        "colab": {
          "base_uri": "https://localhost:8080/"
        },
        "id": "2jJSltwrZ_Xt",
        "outputId": "22d8985a-1f19-4b29-aae5-93519d908f5b"
      },
      "execution_count": 68,
      "outputs": [
        {
          "output_type": "execute_result",
          "data": {
            "text/plain": [
              "{'<nothing>': 1, 'movie': 2, 'is': 3, 'bad': 4}"
            ]
          },
          "metadata": {},
          "execution_count": 68
        }
      ]
    },
    {
      "cell_type": "code",
      "source": [
        "sequences= tokenizer.texts_to_sequences(x)\n",
        "sequences"
      ],
      "metadata": {
        "colab": {
          "base_uri": "https://localhost:8080/"
        },
        "id": "DHfSwQCGaemg",
        "outputId": "fd76daa0-1203-4b26-f4f2-40068991f82d"
      },
      "execution_count": 69,
      "outputs": [
        {
          "output_type": "execute_result",
          "data": {
            "text/plain": [
              "[[2, 3, 4]]"
            ]
          },
          "metadata": {},
          "execution_count": 69
        }
      ]
    },
    {
      "cell_type": "code",
      "source": [
        "sequences= pad_sequences(sequences,padding='pre', maxlen=100)\n",
        "sequences"
      ],
      "metadata": {
        "colab": {
          "base_uri": "https://localhost:8080/"
        },
        "id": "erPt9X35a-Qd",
        "outputId": "42d43619-f217-452b-c430-52a416264f01"
      },
      "execution_count": 70,
      "outputs": [
        {
          "output_type": "execute_result",
          "data": {
            "text/plain": [
              "array([[0, 0, 0, 0, 0, 0, 0, 0, 0, 0, 0, 0, 0, 0, 0, 0, 0, 0, 0, 0, 0, 0,\n",
              "        0, 0, 0, 0, 0, 0, 0, 0, 0, 0, 0, 0, 0, 0, 0, 0, 0, 0, 0, 0, 0, 0,\n",
              "        0, 0, 0, 0, 0, 0, 0, 0, 0, 0, 0, 0, 0, 0, 0, 0, 0, 0, 0, 0, 0, 0,\n",
              "        0, 0, 0, 0, 0, 0, 0, 0, 0, 0, 0, 0, 0, 0, 0, 0, 0, 0, 0, 0, 0, 0,\n",
              "        0, 0, 0, 0, 0, 0, 0, 0, 0, 2, 3, 4]], dtype=int32)"
            ]
          },
          "metadata": {},
          "execution_count": 70
        }
      ]
    },
    {
      "cell_type": "code",
      "source": [
        "model.predict(sequences)"
      ],
      "metadata": {
        "colab": {
          "base_uri": "https://localhost:8080/"
        },
        "id": "mpWiMenWObS2",
        "outputId": "42bb9992-c859-437f-ddae-111af8fa6a3c"
      },
      "execution_count": 71,
      "outputs": [
        {
          "output_type": "stream",
          "name": "stdout",
          "text": [
            "1/1 [==============================] - 0s 24ms/step\n"
          ]
        },
        {
          "output_type": "execute_result",
          "data": {
            "text/plain": [
              "array([[0.8528647]], dtype=float32)"
            ]
          },
          "metadata": {},
          "execution_count": 71
        }
      ]
    },
    {
      "cell_type": "markdown",
      "source": [
        "**Challenges in Sentiment Analysis:**\n",
        "\n",
        "arcasm and Irony: Detecting sarcastic or ironic expressions can be challenging.\n",
        "\n",
        "Contextual Understanding: Understanding sentiment often requires considering the context in which the text is written.\n",
        "\n",
        "Negation: Identifying negations is crucial as they can completely reverse the sentiment."
      ],
      "metadata": {
        "id": "eN343iBMSSm3"
      }
    }
  ]
}